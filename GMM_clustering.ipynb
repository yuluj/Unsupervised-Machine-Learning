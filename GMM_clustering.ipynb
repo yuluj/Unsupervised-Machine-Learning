{
 "cells": [
  {
   "cell_type": "markdown",
   "metadata": {},
   "source": [
    "# BA 820 Homework 2\n",
    "\n"
   ]
  },
  {
   "cell_type": "markdown",
   "metadata": {},
   "source": [
    "## Question 1: Clustering emails using Gaussian Mixture Models [50 pts]"
   ]
  },
  {
   "cell_type": "markdown",
   "metadata": {},
   "source": [
    "For this problem, we will be analyzing emails taken from the [Enron Email Dataset](https://www.cs.cmu.edu/~enron/). We have already curated the data for you in the `data/enron` directory, with one file per email (so there is no need to redownload the dataset as it is already included in this homework zip archive). The dataset includes a combination of \"spam\" and \"ham\" emails. Spam emails are unsolicited messages intended to sell a product or scam users into providing personal information, while ham emails represent everything that is not spam.\n",
    "\n",
    "The language used in spam emails tends to be considerably different from typical business emails. Most spam filters leverage this difference in word frequencies to detect spam as it arrives and filter it out of email inboxes. We will use Gaussian Mixture Models (GMMs) to cluster the emails and attempt to identify groups of emails which are likely to be spam."
   ]
  },
  {
   "cell_type": "markdown",
   "metadata": {},
   "source": [
    "### Part A: Construct a list of processed documents [10 points]"
   ]
  },
  {
   "cell_type": "markdown",
   "metadata": {},
   "source": [
    "Provided below is a function that returns a document present in a file given a filename. The function performs some preprocessing to (1) remove punctuation, (2),(3) remove whitespace and (4) lowercase all words. Using the `make_word_list` function, construct a list of processed documents."
   ]
  },
  {
   "cell_type": "code",
   "execution_count": 1,
   "metadata": {},
   "outputs": [],
   "source": [
    "import re\n",
    "import string\n",
    "import codecs\n",
    "\n",
    "def make_word_list(path):\n",
    "    \n",
    "    with codecs.open(path, \"r\", encoding='utf-8', errors='ignore') as f:\n",
    "        corpus_text = f.read()\n",
    "\n",
    "    for c in string.punctuation:\n",
    "        corpus_text = corpus_text.replace(c, \"\")  # -- (1)\n",
    "    \n",
    "    text = re.sub(r'\\S*\\d\\S*', '', corpus_text) # -- (2)\n",
    "    text = re.sub(r'[^\\w\\s]', '', text)         # -- (3)\n",
    "    \n",
    "    text = text.lower().split()           # -- (4)         \n",
    "    \n",
    "    li = []\n",
    "    for token in text:\n",
    "        li.append(token)\n",
    "\n",
    "    return \" \".join(li)"
   ]
  },
  {
   "cell_type": "code",
   "execution_count": 2,
   "metadata": {},
   "outputs": [
    {
     "data": {
      "text/plain": [
       "5171"
      ]
     },
     "execution_count": 2,
     "metadata": {},
     "output_type": "execute_result"
    }
   ],
   "source": [
    "## Write your code here\n",
    "import spacy\n",
    "import glob\n",
    "\n",
    "files = glob.glob('./data/enron/*.txt')\n",
    "list_of_processed_docs = []\n",
    "\n",
    "for doc in files:\n",
    "    list_of_processed_docs.append(make_word_list(doc))\n",
    "\n",
    "len(list_of_processed_docs)"
   ]
  },
  {
   "cell_type": "markdown",
   "metadata": {},
   "source": [
    "### Part B: Construct a document matrix [10 points]"
   ]
  },
  {
   "cell_type": "markdown",
   "metadata": {},
   "source": [
    "Next, construct a document matrix `X` as a matrix of [TF-IDF](https://en.wikipedia.org/wiki/Tf%E2%80%93idf) features for each document. TF-IDF features encode information about the word frequency within a document, weighted by the frequency of the same word for corpus as a whole.\n",
    "\n",
    "   - Use the `TfidfVectorizer` from [scikit-learn](http://scikit-learn.org/stable/modules/generated/sklearn.feature_extraction.text.TfidfVectorizer.html) to create the document matrix `X`.\n",
    "   - Set `min_df=50`; this drops words that don't occur in at least 50 documents.\n",
    "   - Set `stop_words=\"english\"` and `max_df=0.8` to filter out stop-words.\n",
    "   - Print the number of unique words in the vocabulary Hint: Look for the `vocabulary_` attribute in the `TfidfVectorizer` object after fitting the vectorizer to the data set. The vocabulary will also be needed in part (d)."
   ]
  },
  {
   "cell_type": "code",
   "execution_count": 3,
   "metadata": {},
   "outputs": [
    {
     "data": {
      "text/plain": [
       "1680"
      ]
     },
     "execution_count": 3,
     "metadata": {},
     "output_type": "execute_result"
    }
   ],
   "source": [
    "## Write your code here\n",
    "from sklearn.feature_extraction.text import TfidfVectorizer\n",
    "vectorizer = TfidfVectorizer(min_df=50, stop_words=\"english\", max_df=0.8)\n",
    "X = vectorizer.fit_transform(list_of_processed_docs) #did the tfidf for this data\n",
    "len(vectorizer.vocabulary_)"
   ]
  },
  {
   "cell_type": "markdown",
   "metadata": {},
   "source": [
    "### Part C: Perform Clustering [10 points]"
   ]
  },
  {
   "cell_type": "markdown",
   "metadata": {},
   "source": [
    "Perform clustering on the document matrix `X` using GMMs. \n",
    "- Use the `GaussianMixture` module from [scikit-learn](http://scikit-learn.org/stable/modules/generated/sklearn.mixture.GaussianMixture.html) to cluster the documents.\n",
    "- Set the number of clusters (mixture components) to 3.\n",
    "- Print the number of documents assigned to each cluster."
   ]
  },
  {
   "cell_type": "code",
   "execution_count": 4,
   "metadata": {},
   "outputs": [
    {
     "name": "stderr",
     "output_type": "stream",
     "text": [
      "/Users/nini/opt/anaconda3/lib/python3.9/site-packages/sklearn/manifold/_t_sne.py:780: FutureWarning: The default initialization in TSNE will change from 'random' to 'pca' in 1.2.\n",
      "  warnings.warn(\n",
      "/Users/nini/opt/anaconda3/lib/python3.9/site-packages/sklearn/manifold/_t_sne.py:790: FutureWarning: The default learning rate in TSNE will change from 200.0 to 'auto' in 1.2.\n",
      "  warnings.warn(\n"
     ]
    },
    {
     "name": "stdout",
     "output_type": "stream",
     "text": [
      "Cluster 0 has 2142 points\n",
      "Cluster 1 has 1454 points\n",
      "Cluster 2 has 1575 points\n"
     ]
    }
   ],
   "source": [
    "## Write your code here\n",
    "from sklearn.mixture import GaussianMixture \n",
    "from sklearn.manifold import TSNE\n",
    "\n",
    "tsne = TSNE(n_components=2, random_state=0)\n",
    "X_tsne2d = tsne.fit_transform(X)\n",
    "\n",
    "gmm = GaussianMixture(n_components = 3) \n",
    "gmm.fit(X_tsne2d) \n",
    "\n",
    "weight = gmm.weights_\n",
    "for i in range(len(weight)):\n",
    "    print(\"Cluster\", i, \"has\", int(round(weight[i]*X.shape[0])), \"points\")"
   ]
  },
  {
   "cell_type": "markdown",
   "metadata": {},
   "source": [
    "### Part D: Characterize the clusters [10 points]"
   ]
  },
  {
   "cell_type": "markdown",
   "metadata": {},
   "source": [
    "Now, we will attempt to characterize the clusters based on the frequency of spam-relevant words. \n",
    "- Select 3 \"spammy\" words from the vocabulary that you expect to occur frequently in spam emails and less frequently in normal business emails (e.g., 'click', 'www', 'offer'). Construct a list, `spam_indices`, storing the indices of the spammy words you selected in the vocabulary generated by `TfidfVectorizer`.\n",
    "- Select 3 \"hammy\" words from the vocabulary you think will occur frequently in business emails and infrequently in spam emails (e.g., 'meeting', 'attached', 'review'). Construct a list, `ham_indices`, storing the indices of the hammy words you selected in the vocabulary generated by `TfidfVectorizer`.\n",
    "- Use the function provided below, `plot_spam_words_by_cluster`, to plot the average TF-IDF features for your selected spammy words and hammy words for each cluster. The function takes the following parameters:\n",
    "    - `X` is a matrix of TF-IDF features (rows index documents, columns index terms).\n",
    "    - `predicted` is predicted cluster assignments returned by `GaussianMixture.predict()`\n",
    "    - `n_clusters` is the number of clusters. This should match the number of clusters from your GMM.\n",
    "    - `spam_indices` is a list of indices of spammy words in the vocabulary.\n",
    "    - `ham_indices` is a list of indices of hammy (typical business) words in the vocabulary."
   ]
  },
  {
   "cell_type": "code",
   "execution_count": 5,
   "metadata": {},
   "outputs": [],
   "source": [
    "def plot_spam_words_by_cluster(X, predicted, n_clusters, spam_indices, ham_indices):\n",
    "    import numpy as np\n",
    "    import matplotlib.pyplot as plt\n",
    "    \n",
    "    # Calculate mean TF-IDF features for each cluster\n",
    "    mean_tfidf_spam = []\n",
    "    mean_tfidf_ham = []\n",
    "    for spam in spam_indices:\n",
    "        mean_tfidf_spam.append([])\n",
    "    for ham in ham_indices:\n",
    "        mean_tfidf_ham.append([])\n",
    "    \n",
    "    for i in range(n_clusters):\n",
    "        for j, spam_idx in enumerate(spam_indices):\n",
    "            mean_tfidf_spam[j].append(X[predicted==i, spam_idx].mean())\n",
    "        for j, ham_idx in enumerate(ham_indices):\n",
    "            mean_tfidf_ham[j].append(X[predicted==i, ham_idx].mean())\n",
    "    \n",
    "    # Generate plot\n",
    "    fig, ax = plt.subplots()\n",
    "\n",
    "    ind = np.arange(n_clusters)    # the x locations for the groups\n",
    "    width = 0.10         # the width of the bars\n",
    "\n",
    "    # Plot spam bars\n",
    "    for i, val in enumerate(mean_tfidf_spam):\n",
    "        spam_bar = ax.bar(ind - (len(mean_tfidf_spam)-i-1)*width, val, width, color='r', bottom=0)\n",
    "\n",
    "    # Plot ham bars\n",
    "    for i, val in enumerate(mean_tfidf_ham):\n",
    "        ham_bar = ax.bar(ind + (len(mean_tfidf_ham)-i)*width, val, width,\n",
    "                color='y', bottom=0)\n",
    "\n",
    "    ax.set_title('Mean TF-IDF Features by Cluster for Spam-Relevant Words')\n",
    "    ax.set_xticks(ind + width / 2)\n",
    "    xticklabels = []\n",
    "    for i in range(n_clusters):\n",
    "        xticklabels.append('Cluster ' + str(i) + '\\n(n=' + str((predicted==i).sum()) + ')')\n",
    "    ax.set_xticklabels(xticklabels)\n",
    "\n",
    "    ax.legend((spam_bar[0], ham_bar[0]), ('Spammy words', 'Hammy words'))\n",
    "    ax.autoscale_view()\n",
    "    ax.set_ylabel('Mean TF-IDF')\n",
    "    plt.show()"
   ]
  },
  {
   "cell_type": "code",
   "execution_count": 6,
   "metadata": {},
   "outputs": [],
   "source": [
    "## Write your code here\n",
    "gmm_cluster_assignments = gmm.predict(X_tsne2d)\n",
    "vect_list = list(vectorizer.vocabulary_.keys())"
   ]
  },
  {
   "cell_type": "code",
   "execution_count": 7,
   "metadata": {},
   "outputs": [],
   "source": [
    "a = vect_list.index(\"regards\")\n",
    "b = vect_list.index(\"available\")\n",
    "c = vect_list.index(\"performance\")\n",
    "list_hammy = list([a,b,c])\n",
    "\n",
    "d = vect_list.index(\"peopie\")\n",
    "e = vect_list.index(\"oniy\")\n",
    "f = vect_list.index(\"wiil\")\n",
    "list_spammy = list([d,e,f])"
   ]
  },
  {
   "cell_type": "code",
   "execution_count": 8,
   "metadata": {},
   "outputs": [
    {
     "data": {
      "image/png": "[encoded data removed]",
      "text/plain": [
       "<Figure size 432x288 with 1 Axes>"
      ]
     },
     "metadata": {
      "needs_background": "light"
     },
     "output_type": "display_data"
    }
   ],
   "source": [
    "plot_spam_words_by_cluster(X, gmm_cluster_assignments, 3, list_spammy, list_hammy)"
   ]
  },
  {
   "cell_type": "markdown",
   "metadata": {},
   "source": [
    "### Part E: Interpret results [10 points]"
   ]
  },
  {
   "cell_type": "markdown",
   "metadata": {},
   "source": [
    "From the plot generated in part (d), do any of the clusters correspond to spam emails, based on the frequency of spammy and hammy words? Do any of the clusters appear to correspond to typical business emails (ham)? \n",
    "\n",
    "Re-run your analysis with a different choice for the number of clusters in your GMM (e.g., `n_clusters=5` or `n_clusters=2`). How does changing the number of clusters affect your results? Does one choice of `n_clusters` appear better than another for locating clusters of spam emails?"
   ]
  },
  {
   "cell_type": "markdown",
   "metadata": {},
   "source": [
    "*** WRITE YOUR ANSWER HERE IN TEXT ***"
   ]
  },
  {
   "cell_type": "code",
   "execution_count": 9,
   "metadata": {},
   "outputs": [
    {
     "data": {
      "image/png": "[encoded data removed]",
      "text/plain": [
       "<Figure size 432x288 with 1 Axes>"
      ]
     },
     "metadata": {
      "needs_background": "light"
     },
     "output_type": "display_data"
    }
   ],
   "source": [
    "gmm_2 = GaussianMixture(n_components = 2) \n",
    "gmm_2.fit(X_tsne2d) \n",
    "\n",
    "gmm_2_cluster_assignments = gmm_2.predict(X_tsne2d)\n",
    "\n",
    "plot_spam_words_by_cluster(X, gmm_2_cluster_assignments, 2, list_spammy[:2], list_hammy[:2])"
   ]
  },
  {
   "cell_type": "markdown",
   "metadata": {},
   "source": [
    "If we only have two cAfter reducing the number of clusters from 3 to 2, we can see that the accuracy of cluster prediction is lower, shown by a higher frequency of spammy words comparing with hammy words. This could be the issue of over-generalization because few clusters may group words that are dissimilar together.lusters, then the spammy words are significantly less frequent than hammy words."
   ]
  },
  {
   "cell_type": "markdown",
   "metadata": {},
   "source": [
    "## Question 2: Latent \"Purposes\" in Mobile Apps [50 points]\n",
    "\n",
    "\n",
    "Think of Android applications as \"documents\", where \"words\" are the \"permissions\" that each app requests. Each app has a set of latent \"purposes\" (topics); a \"purpose\" may be a specific task (such as taking photographs and uploading them to the internet), and an application may have a mixture of purposes of varying strength.\n",
    "\n",
    "Can we uncover these purposes from a dataset of Android applications and the permissions they request?"
   ]
  },
  {
   "cell_type": "code",
   "execution_count": 10,
   "metadata": {},
   "outputs": [],
   "source": [
    "import numpy as np\n",
    "import matplotlib.pyplot as plt\n",
    "import pandas as pd\n",
    "%matplotlib inline"
   ]
  },
  {
   "cell_type": "markdown",
   "metadata": {},
   "source": [
    "### Part A: Load the data [0 points]"
   ]
  },
  {
   "cell_type": "markdown",
   "metadata": {},
   "source": [
    "The [dataset](http://www.mariofrank.net/andrApps/) contains ~180,000 applications from the Android app store, including each app's name, description and permissions requested. For more about Android app permissions, see [this report](http://www.pewinternet.org/2015/11/10/an-analysis-of-android-app-permissions/).\n",
    "\n",
    "   * Download the data and unzip it into the same folder as this notebook.\n",
    "   * Rename the CSV file to \"android.csv\".\n",
    "   * Run the cells below to load the data into the notebook.\n",
    "\n",
    "This may take up ~2GB of RAM."
   ]
  },
  {
   "cell_type": "code",
   "execution_count": 11,
   "metadata": {},
   "outputs": [],
   "source": [
    "df = pd.read_csv(\"android.csv\", sep=\",\",  thousands=\",\")"
   ]
  },
  {
   "cell_type": "code",
   "execution_count": 12,
   "metadata": {},
   "outputs": [],
   "source": [
    "df[\"Number of ratings\"] = df[\"Number of ratings\"].astype(int) # fix data type\n",
    "df = df.drop_duplicates(subset=[\"App\"]).reset_index(drop=True)"
   ]
  },
  {
   "cell_type": "code",
   "execution_count": 13,
   "metadata": {},
   "outputs": [
    {
     "data": {
      "text/html": [
       "<div>\n",
       "<style scoped>\n",
       "    .dataframe tbody tr th:only-of-type {\n",
       "        vertical-align: middle;\n",
       "    }\n",
       "\n",
       "    .dataframe tbody tr th {\n",
       "        vertical-align: top;\n",
       "    }\n",
       "\n",
       "    .dataframe thead th {\n",
       "        text-align: right;\n",
       "    }\n",
       "</style>\n",
       "<table border=\"1\" class=\"dataframe\">\n",
       "  <thead>\n",
       "    <tr style=\"text-align: right;\">\n",
       "      <th></th>\n",
       "      <th>App</th>\n",
       "      <th>Package</th>\n",
       "      <th>Category</th>\n",
       "      <th>Description</th>\n",
       "      <th>Rating</th>\n",
       "      <th>Number of ratings</th>\n",
       "      <th>Price</th>\n",
       "      <th>Related apps</th>\n",
       "      <th>Dangerous permissions count</th>\n",
       "      <th>Safe permissions count</th>\n",
       "      <th>...</th>\n",
       "      <th>Your personal information : read Browser's history and bookmarks (D)</th>\n",
       "      <th>Your personal information : read calendar events (D)</th>\n",
       "      <th>Your personal information : read contact data (D)</th>\n",
       "      <th>Your personal information : read sensitive log data (D)</th>\n",
       "      <th>Your personal information : read user defined dictionary (D)</th>\n",
       "      <th>Your personal information : retrieve system internal state (S)</th>\n",
       "      <th>Your personal information : set alarm in alarm clock (S)</th>\n",
       "      <th>Your personal information : write Browser's history and bookmarks (D)</th>\n",
       "      <th>Your personal information : write contact data (D)</th>\n",
       "      <th>Your personal information : write to user defined dictionary (S)</th>\n",
       "    </tr>\n",
       "  </thead>\n",
       "  <tbody>\n",
       "    <tr>\n",
       "      <th>0</th>\n",
       "      <td>Google Maps</td>\n",
       "      <td>com.google.android.apps.maps</td>\n",
       "      <td>Travel &amp; Local</td>\n",
       "      <td>Download the latest release of Google Maps, an...</td>\n",
       "      <td>4.4</td>\n",
       "      <td>1438259</td>\n",
       "      <td>$0.00</td>\n",
       "      <td>{com.jsdfproductions.ctatrackerpro, com.alk.co...</td>\n",
       "      <td>17.0</td>\n",
       "      <td>8</td>\n",
       "      <td>...</td>\n",
       "      <td>0</td>\n",
       "      <td>0</td>\n",
       "      <td>1</td>\n",
       "      <td>0</td>\n",
       "      <td>0</td>\n",
       "      <td>0</td>\n",
       "      <td>0</td>\n",
       "      <td>0</td>\n",
       "      <td>1</td>\n",
       "      <td>0</td>\n",
       "    </tr>\n",
       "    <tr>\n",
       "      <th>1</th>\n",
       "      <td>Snowfall Live Wallpaper</td>\n",
       "      <td>fishnoodle.snowfall_free</td>\n",
       "      <td>Personalization</td>\n",
       "      <td>Snowfall Live Wallpaper: Wintertime on your ho...</td>\n",
       "      <td>4.3</td>\n",
       "      <td>18147</td>\n",
       "      <td>$0.00</td>\n",
       "      <td>{colfore.wallpaper.snowfree, com.tabsoft.wallp...</td>\n",
       "      <td>0.0</td>\n",
       "      <td>0</td>\n",
       "      <td>...</td>\n",
       "      <td>0</td>\n",
       "      <td>0</td>\n",
       "      <td>0</td>\n",
       "      <td>0</td>\n",
       "      <td>0</td>\n",
       "      <td>0</td>\n",
       "      <td>0</td>\n",
       "      <td>0</td>\n",
       "      <td>0</td>\n",
       "      <td>0</td>\n",
       "    </tr>\n",
       "    <tr>\n",
       "      <th>2</th>\n",
       "      <td>Aquarium Live Wallpaper</td>\n",
       "      <td>fishnoodle.aquarium_free</td>\n",
       "      <td>Personalization</td>\n",
       "      <td>A beautiful tropical fish tank live wallpaper!...</td>\n",
       "      <td>4.1</td>\n",
       "      <td>62145</td>\n",
       "      <td>$0.00</td>\n",
       "      <td>{com.convisual.lwp.fishometerlite, com.accessl...</td>\n",
       "      <td>0.0</td>\n",
       "      <td>0</td>\n",
       "      <td>...</td>\n",
       "      <td>0</td>\n",
       "      <td>0</td>\n",
       "      <td>0</td>\n",
       "      <td>0</td>\n",
       "      <td>0</td>\n",
       "      <td>0</td>\n",
       "      <td>0</td>\n",
       "      <td>0</td>\n",
       "      <td>0</td>\n",
       "      <td>0</td>\n",
       "    </tr>\n",
       "  </tbody>\n",
       "</table>\n",
       "<p>3 rows × 183 columns</p>\n",
       "</div>"
      ],
      "text/plain": [
       "                       App                       Package         Category  \\\n",
       "0              Google Maps  com.google.android.apps.maps   Travel & Local   \n",
       "1  Snowfall Live Wallpaper      fishnoodle.snowfall_free  Personalization   \n",
       "2  Aquarium Live Wallpaper      fishnoodle.aquarium_free  Personalization   \n",
       "\n",
       "                                         Description  Rating  \\\n",
       "0  Download the latest release of Google Maps, an...     4.4   \n",
       "1  Snowfall Live Wallpaper: Wintertime on your ho...     4.3   \n",
       "2  A beautiful tropical fish tank live wallpaper!...     4.1   \n",
       "\n",
       "   Number of ratings  Price  \\\n",
       "0            1438259  $0.00   \n",
       "1              18147  $0.00   \n",
       "2              62145  $0.00   \n",
       "\n",
       "                                        Related apps  \\\n",
       "0  {com.jsdfproductions.ctatrackerpro, com.alk.co...   \n",
       "1  {colfore.wallpaper.snowfree, com.tabsoft.wallp...   \n",
       "2  {com.convisual.lwp.fishometerlite, com.accessl...   \n",
       "\n",
       "   Dangerous permissions count  Safe permissions count  ...  \\\n",
       "0                         17.0                       8  ...   \n",
       "1                          0.0                       0  ...   \n",
       "2                          0.0                       0  ...   \n",
       "\n",
       "   Your personal information : read Browser's history and bookmarks (D)  \\\n",
       "0                                                  0                      \n",
       "1                                                  0                      \n",
       "2                                                  0                      \n",
       "\n",
       "   Your personal information : read calendar events (D)  \\\n",
       "0                                                  0      \n",
       "1                                                  0      \n",
       "2                                                  0      \n",
       "\n",
       "   Your personal information : read contact data (D)  \\\n",
       "0                                                  1   \n",
       "1                                                  0   \n",
       "2                                                  0   \n",
       "\n",
       "   Your personal information : read sensitive log data (D)  \\\n",
       "0                                                  0         \n",
       "1                                                  0         \n",
       "2                                                  0         \n",
       "\n",
       "   Your personal information : read user defined dictionary (D)  \\\n",
       "0                                                  0              \n",
       "1                                                  0              \n",
       "2                                                  0              \n",
       "\n",
       "   Your personal information : retrieve system internal state (S)  \\\n",
       "0                                                  0                \n",
       "1                                                  0                \n",
       "2                                                  0                \n",
       "\n",
       "   Your personal information : set alarm in alarm clock (S)  \\\n",
       "0                                                  0          \n",
       "1                                                  0          \n",
       "2                                                  0          \n",
       "\n",
       "   Your personal information : write Browser's history and bookmarks (D)  \\\n",
       "0                                                  0                       \n",
       "1                                                  0                       \n",
       "2                                                  0                       \n",
       "\n",
       "   Your personal information : write contact data (D)  \\\n",
       "0                                                  1    \n",
       "1                                                  0    \n",
       "2                                                  0    \n",
       "\n",
       "   Your personal information : write to user defined dictionary (S)  \n",
       "0                                                  0                 \n",
       "1                                                  0                 \n",
       "2                                                  0                 \n",
       "\n",
       "[3 rows x 183 columns]"
      ]
     },
     "execution_count": 13,
     "metadata": {},
     "output_type": "execute_result"
    }
   ],
   "source": [
    "df.head(n=3)"
   ]
  },
  {
   "cell_type": "markdown",
   "metadata": {},
   "source": [
    "### Part B: Convert each app into a \"document\" [0 points]\n",
    "\n",
    "The code below does the following:\n",
    "\n",
    "   * Filter out all the columns except the permission columns.\n",
    "   * Convert this dataframe into a numpy matrix.\n",
    "\n",
    "There are thus 180295 apps (documents) and 173 permissions (words).\n",
    "\n",
    "   - `X` is the \"document\" or \"word-frequency\" matrix.\n",
    "   - `permission_columns` contains the words ordered by their column index in X.\n",
    "   - `app_names` contains the application names ordered by their row index in X.\n",
    "   - `app_ratings` contains the *number* of application ratings (not the ratings themselves)."
   ]
  },
  {
   "cell_type": "code",
   "execution_count": 14,
   "metadata": {},
   "outputs": [],
   "source": [
    "permission_columns = list(df.columns[10:])\n",
    "app_names = list(df[\"App\"])\n",
    "app_ratings = np.array(df[\"Number of ratings\"])\n",
    "df_perms = df[permission_columns]\n",
    "X = df_perms.values\n",
    "#del df # uncomment to free up RAM\n",
    "#del df_perms # uncomment to free up RAM"
   ]
  },
  {
   "cell_type": "code",
   "execution_count": 15,
   "metadata": {},
   "outputs": [
    {
     "data": {
      "text/plain": [
       "(180295, 173)"
      ]
     },
     "execution_count": 15,
     "metadata": {},
     "output_type": "execute_result"
    }
   ],
   "source": [
    "## check the shape of X\n",
    "X.shape"
   ]
  },
  {
   "cell_type": "markdown",
   "metadata": {},
   "source": [
    "### Part C: Downweight \"stopwords\" [2.5 points]\n",
    "\n",
    "There are some permissions requested by almost all applications (like \"INTERNET\"), they are similar to stop-words (\"the\", \"and\", etc.) in natural language. We can downweight them by TF-IDF normalization.\n",
    "\n",
    "   * Use the `TfidfTransformer` class in `scikit-learn` to transform X."
   ]
  },
  {
   "cell_type": "code",
   "execution_count": 16,
   "metadata": {},
   "outputs": [],
   "source": [
    "## Write your code here\n",
    "# compute TF-IDF scores\n",
    "from sklearn.feature_extraction.text import CountVectorizer, TfidfTransformer\n",
    "\n",
    "transformer = TfidfTransformer()\n",
    "tfidf = transformer.fit_transform(X)"
   ]
  },
  {
   "cell_type": "markdown",
   "metadata": {},
   "source": [
    "### Part D: Discover 10 \"topics\" [2.5 points]\n",
    "\n",
    "   * Use the `LatentDirichletAllocation` class in `scikit-learn` to fit 10 topics to the data.\n",
    "   * Use 10 max iterations, set `n_jobs=-1` to use all cores on your machine (if it helps).\n",
    "   * Feel free to understand and play around with other parameters.\n",
    "   * This may take around 3 minutes to run."
   ]
  },
  {
   "cell_type": "code",
   "execution_count": 37,
   "metadata": {},
   "outputs": [
    {
     "name": "stdout",
     "output_type": "stream",
     "text": [
      "CPU times: user 52.5 s, sys: 4.77 s, total: 57.3 s\n",
      "Wall time: 1min 30s\n"
     ]
    },
    {
     "data": {
      "text/plain": [
       "LatentDirichletAllocation(learning_method='online', n_jobs=-1, random_state=0)"
      ]
     },
     "execution_count": 37,
     "metadata": {},
     "output_type": "execute_result"
    }
   ],
   "source": [
    "%%time\n",
    "## Write your code here \n",
    "from sklearn.decomposition import LatentDirichletAllocation\n",
    "lda = LatentDirichletAllocation(n_components=10, max_iter=10,\n",
    "                                learning_method='online',\n",
    "                                n_jobs=-1,\n",
    "                                random_state=0)\n",
    "lda.fit(tfidf)"
   ]
  },
  {
   "cell_type": "markdown",
   "metadata": {},
   "source": [
    "Now each app can be viewed as a distribution over these 10 topics, and each topic is a distribution over all the permissions in the data."
   ]
  },
  {
   "cell_type": "markdown",
   "metadata": {},
   "source": [
    "### Part E: List the top 10 \"words\" in each topic [15 points]\n",
    "\n",
    "Do any of the topics correspond to meaningful app \"purposes\"? List the ones you find meaningful below:\n",
    "\n",
    "   * Topic #i: \"your interpretation\""
   ]
  },
  {
   "cell_type": "code",
   "execution_count": 38,
   "metadata": {},
   "outputs": [
    {
     "name": "stdout",
     "output_type": "stream",
     "text": [
      "Topic #1: \n",
      "Your location : coarse (network-based) location (D), Your location : fine (GPS) location (D), Network communication : full Internet access (D), Network communication : view network state (S), Phone calls : read phone state and identity (D), Storage : modify/delete USB storage contents modify/delete SD card contents (D), Hardware controls : record audio (D), Your location : access extra location provider commands (S), Default : permission to install a location provider (S), Network communication : download files without notification (S)\n",
      "\n",
      "Topic #2: \n",
      "Hardware controls : control vibrator (S), System tools : prevent device from sleeping (D), Network communication : full Internet access (D), Storage : modify/delete USB storage contents modify/delete SD card contents (D), Network communication : view network state (S), System tools : allow Wi-Fi Multicast reception (D), Default : force application to close (S), Phone calls : read phone state and identity (D), Default : modify/delete USB storage contents modify/delete SD card contents (S), System tools : automatically start at boot (S)\n",
      "\n",
      "Topic #3: \n",
      "Storage : modify/delete USB storage contents modify/delete SD card contents (D), Network communication : full Internet access (D), System tools : modify global system settings (D), Default : delete other applications' caches (S), System tools : send package removed broadcast (S), Network communication : download files without notification (S), Network communication : view network state (S), System tools : change your UI settings (D), System tools : delete all application cache data (D), Default : force application to close (S)\n",
      "\n",
      "Topic #4: \n",
      "System tools : automatically start at boot (S), Your location : coarse (network-based) location (D), Your location : fine (GPS) location (D), Services that cost you money : send SMS messages (D), Hardware controls : control vibrator (S), Phone calls : read phone state and identity (D), Your location : mock location sources for testing (D), Network communication : full Internet access (D), Network communication : view network state (S), Your personal information : read Browser's history and bookmarks (D)\n",
      "\n",
      "Topic #5: \n",
      "System tools : set wallpaper (S), Hardware controls : change your audio settings (D), System tools : send sticky broadcast (S), Default : change screen orientation (S), Default : bind to an input method (S), Default : Access download manager. (S), Default : record what you type and actions you take (S), Default : interact with a device admin (S), System tools : set time zone (D), System tools : modify global animation speed (D)\n",
      "\n",
      "Topic #6: \n",
      "Network communication : full Internet access (D), Network communication : view network state (S), Storage : modify/delete USB storage contents modify/delete SD card contents (D), System tools : set wallpaper (S), Default : coarse (network-based) location (S), Services that cost you money : directly call phone numbers (D), System tools : modify global system settings (D), Your personal information : read contact data (D), Default : Access download manager. (S), System tools : automatically start at boot (S)\n",
      "\n",
      "Topic #7: \n",
      "System tools : retrieve running applications (D), Phone calls : read phone state and identity (D), System tools : mount and unmount filesystems (D), Storage : modify/delete USB storage contents modify/delete SD card contents (D), System tools : kill background processes (S), Network communication : view network state (S), Network communication : full Internet access (D), Your personal information : read sensitive log data (D), Default : directly install applications (S), System tools : prevent device from sleeping (D)\n",
      "\n",
      "Topic #8: \n",
      "Phone calls : read phone state and identity (D), Network communication : view Wi-Fi state (S), Network communication : view network state (S), Network communication : full Internet access (D), Storage : modify/delete USB storage contents modify/delete SD card contents (D), Services that cost you money : directly call phone numbers (D), System tools : prevent device from sleeping (D), Hardware controls : control vibrator (S), Your location : coarse (network-based) location (D), Your location : fine (GPS) location (D)\n",
      "\n",
      "Topic #9: \n",
      "Hardware controls : take pictures and videos (D), Storage : modify/delete USB storage contents modify/delete SD card contents (D), System tools : change Wi-Fi state (D), Network communication : view Wi-Fi state (S), Network communication : full Internet access (D), Network communication : view network state (S), Hardware controls : control flashlight (S), System tools : prevent device from sleeping (D), Network communication : create Bluetooth connections (D), Hardware controls : control vibrator (S)\n",
      "\n",
      "Topic #10: \n",
      "Services that cost you money : directly call phone numbers (D), Your personal information : read contact data (D), Phone calls : read phone state and identity (D), Network communication : full Internet access (D), Network communication : view network state (S), Your location : fine (GPS) location (D), Network communication : receive data from Internet (S), System tools : prevent device from sleeping (D), Storage : modify/delete USB storage contents modify/delete SD card contents (D), Your accounts : discover known accounts (S)\n",
      "\n"
     ]
    }
   ],
   "source": [
    "## Write your code here\n",
    "for topic_idx, topic in enumerate(lda.components_):\n",
    "    message = \"Topic #%d: \" % (topic_idx+1)\n",
    "    message += \"\\n\"\n",
    "    message += \", \".join([permission_columns[i]\n",
    "                         for i in topic.argsort()[:-10 - 1:-1]])\n",
    "    print(message + '\\n')"
   ]
  },
  {
   "cell_type": "markdown",
   "metadata": {},
   "source": [
    "*** WRITE YOUR ANSWER HERE IN TEXT ***\n",
    "\n",
    "Topic #4: permissions could be relevant for web browsers or other internet-connected apps that need to access or modify browsing history, bookmarks, or other personal data.\n",
    "\n",
    "Topic #5: permissions could be relevant for system tools and hardware controls.\n",
    "\n",
    "Topic #10: permission could be relevant for location-based apps or services that need to access or provide GPS or network-based location data, such as a navigation app or a weather app."
   ]
  },
  {
   "cell_type": "markdown",
   "metadata": {},
   "source": [
    "### Part F: For each topic, list the top 3 apps with at least 100000 ratings having the highest probability assigned to that topic [15 points]\n",
    "\n",
    "   - This further helps us understand what the topics actually mean.\n",
    "   - However, the data is noisy and this exercise may result in listing a bunch of obscure apps.\n",
    "   - Hence, filtering out all apps with less than 100000 ratings may help."
   ]
  },
  {
   "cell_type": "code",
   "execution_count": 25,
   "metadata": {},
   "outputs": [],
   "source": [
    "## Write your code here\n",
    "topic_results = lda.transform(tfidf)"
   ]
  },
  {
   "cell_type": "code",
   "execution_count": 26,
   "metadata": {},
   "outputs": [
    {
     "data": {
      "text/html": [
       "<div>\n",
       "<style scoped>\n",
       "    .dataframe tbody tr th:only-of-type {\n",
       "        vertical-align: middle;\n",
       "    }\n",
       "\n",
       "    .dataframe tbody tr th {\n",
       "        vertical-align: top;\n",
       "    }\n",
       "\n",
       "    .dataframe thead th {\n",
       "        text-align: right;\n",
       "    }\n",
       "</style>\n",
       "<table border=\"1\" class=\"dataframe\">\n",
       "  <thead>\n",
       "    <tr style=\"text-align: right;\">\n",
       "      <th></th>\n",
       "      <th>topic1</th>\n",
       "      <th>topic2</th>\n",
       "      <th>topic3</th>\n",
       "      <th>topic4</th>\n",
       "      <th>topic5</th>\n",
       "      <th>topic6</th>\n",
       "      <th>topic7</th>\n",
       "      <th>topic8</th>\n",
       "      <th>topic9</th>\n",
       "      <th>topic10</th>\n",
       "      <th>APP</th>\n",
       "    </tr>\n",
       "  </thead>\n",
       "  <tbody>\n",
       "    <tr>\n",
       "      <th>0</th>\n",
       "      <td>0.02</td>\n",
       "      <td>0.02</td>\n",
       "      <td>0.02</td>\n",
       "      <td>0.02</td>\n",
       "      <td>0.02</td>\n",
       "      <td>0.02</td>\n",
       "      <td>0.02</td>\n",
       "      <td>0.02</td>\n",
       "      <td>0.06</td>\n",
       "      <td>0.79</td>\n",
       "      <td>Google Maps</td>\n",
       "    </tr>\n",
       "    <tr>\n",
       "      <th>1</th>\n",
       "      <td>0.02</td>\n",
       "      <td>0.02</td>\n",
       "      <td>0.02</td>\n",
       "      <td>0.02</td>\n",
       "      <td>0.02</td>\n",
       "      <td>0.02</td>\n",
       "      <td>0.02</td>\n",
       "      <td>0.02</td>\n",
       "      <td>0.02</td>\n",
       "      <td>0.82</td>\n",
       "      <td>Facebook for Android</td>\n",
       "    </tr>\n",
       "    <tr>\n",
       "      <th>2</th>\n",
       "      <td>0.02</td>\n",
       "      <td>0.02</td>\n",
       "      <td>0.02</td>\n",
       "      <td>0.02</td>\n",
       "      <td>0.02</td>\n",
       "      <td>0.02</td>\n",
       "      <td>0.02</td>\n",
       "      <td>0.02</td>\n",
       "      <td>0.54</td>\n",
       "      <td>0.27</td>\n",
       "      <td>Pandora?? internet radio</td>\n",
       "    </tr>\n",
       "    <tr>\n",
       "      <th>3</th>\n",
       "      <td>0.03</td>\n",
       "      <td>0.03</td>\n",
       "      <td>0.03</td>\n",
       "      <td>0.03</td>\n",
       "      <td>0.13</td>\n",
       "      <td>0.03</td>\n",
       "      <td>0.03</td>\n",
       "      <td>0.03</td>\n",
       "      <td>0.03</td>\n",
       "      <td>0.65</td>\n",
       "      <td>Zedge Ringtones &amp; Wallpapers</td>\n",
       "    </tr>\n",
       "    <tr>\n",
       "      <th>4</th>\n",
       "      <td>0.03</td>\n",
       "      <td>0.03</td>\n",
       "      <td>0.03</td>\n",
       "      <td>0.18</td>\n",
       "      <td>0.03</td>\n",
       "      <td>0.03</td>\n",
       "      <td>0.56</td>\n",
       "      <td>0.03</td>\n",
       "      <td>0.03</td>\n",
       "      <td>0.03</td>\n",
       "      <td>Advanced Task Killer</td>\n",
       "    </tr>\n",
       "    <tr>\n",
       "      <th>...</th>\n",
       "      <td>...</td>\n",
       "      <td>...</td>\n",
       "      <td>...</td>\n",
       "      <td>...</td>\n",
       "      <td>...</td>\n",
       "      <td>...</td>\n",
       "      <td>...</td>\n",
       "      <td>...</td>\n",
       "      <td>...</td>\n",
       "      <td>...</td>\n",
       "      <td>...</td>\n",
       "    </tr>\n",
       "    <tr>\n",
       "      <th>90</th>\n",
       "      <td>0.02</td>\n",
       "      <td>0.02</td>\n",
       "      <td>0.02</td>\n",
       "      <td>0.02</td>\n",
       "      <td>0.02</td>\n",
       "      <td>0.02</td>\n",
       "      <td>0.02</td>\n",
       "      <td>0.02</td>\n",
       "      <td>0.54</td>\n",
       "      <td>0.27</td>\n",
       "      <td>Pandora® internet radio</td>\n",
       "    </tr>\n",
       "    <tr>\n",
       "      <th>91</th>\n",
       "      <td>0.02</td>\n",
       "      <td>0.02</td>\n",
       "      <td>0.02</td>\n",
       "      <td>0.46</td>\n",
       "      <td>0.08</td>\n",
       "      <td>0.02</td>\n",
       "      <td>0.11</td>\n",
       "      <td>0.02</td>\n",
       "      <td>0.02</td>\n",
       "      <td>0.22</td>\n",
       "      <td>Dolphin Browser™ HD</td>\n",
       "    </tr>\n",
       "    <tr>\n",
       "      <th>92</th>\n",
       "      <td>0.03</td>\n",
       "      <td>0.03</td>\n",
       "      <td>0.03</td>\n",
       "      <td>0.03</td>\n",
       "      <td>0.03</td>\n",
       "      <td>0.03</td>\n",
       "      <td>0.03</td>\n",
       "      <td>0.03</td>\n",
       "      <td>0.34</td>\n",
       "      <td>0.45</td>\n",
       "      <td>Brightest Flashlight Free™</td>\n",
       "    </tr>\n",
       "    <tr>\n",
       "      <th>93</th>\n",
       "      <td>0.02</td>\n",
       "      <td>0.02</td>\n",
       "      <td>0.02</td>\n",
       "      <td>0.02</td>\n",
       "      <td>0.09</td>\n",
       "      <td>0.02</td>\n",
       "      <td>0.10</td>\n",
       "      <td>0.02</td>\n",
       "      <td>0.07</td>\n",
       "      <td>0.63</td>\n",
       "      <td>Handcent SMS</td>\n",
       "    </tr>\n",
       "    <tr>\n",
       "      <th>94</th>\n",
       "      <td>0.03</td>\n",
       "      <td>0.34</td>\n",
       "      <td>0.03</td>\n",
       "      <td>0.03</td>\n",
       "      <td>0.03</td>\n",
       "      <td>0.03</td>\n",
       "      <td>0.03</td>\n",
       "      <td>0.03</td>\n",
       "      <td>0.03</td>\n",
       "      <td>0.42</td>\n",
       "      <td>Restaurant Story™</td>\n",
       "    </tr>\n",
       "  </tbody>\n",
       "</table>\n",
       "<p>95 rows × 11 columns</p>\n",
       "</div>"
      ],
      "text/plain": [
       "    topic1  topic2  topic3  topic4  topic5  topic6  topic7  topic8  topic9  \\\n",
       "0     0.02    0.02    0.02    0.02    0.02    0.02    0.02    0.02    0.06   \n",
       "1     0.02    0.02    0.02    0.02    0.02    0.02    0.02    0.02    0.02   \n",
       "2     0.02    0.02    0.02    0.02    0.02    0.02    0.02    0.02    0.54   \n",
       "3     0.03    0.03    0.03    0.03    0.13    0.03    0.03    0.03    0.03   \n",
       "4     0.03    0.03    0.03    0.18    0.03    0.03    0.56    0.03    0.03   \n",
       "..     ...     ...     ...     ...     ...     ...     ...     ...     ...   \n",
       "90    0.02    0.02    0.02    0.02    0.02    0.02    0.02    0.02    0.54   \n",
       "91    0.02    0.02    0.02    0.46    0.08    0.02    0.11    0.02    0.02   \n",
       "92    0.03    0.03    0.03    0.03    0.03    0.03    0.03    0.03    0.34   \n",
       "93    0.02    0.02    0.02    0.02    0.09    0.02    0.10    0.02    0.07   \n",
       "94    0.03    0.34    0.03    0.03    0.03    0.03    0.03    0.03    0.03   \n",
       "\n",
       "    topic10                           APP  \n",
       "0      0.79                   Google Maps  \n",
       "1      0.82          Facebook for Android  \n",
       "2      0.27      Pandora?? internet radio  \n",
       "3      0.65  Zedge Ringtones & Wallpapers  \n",
       "4      0.03          Advanced Task Killer  \n",
       "..      ...                           ...  \n",
       "90     0.27       Pandora® internet radio  \n",
       "91     0.22           Dolphin Browser™ HD  \n",
       "92     0.45    Brightest Flashlight Free™  \n",
       "93     0.63                  Handcent SMS  \n",
       "94     0.42             Restaurant Story™  \n",
       "\n",
       "[95 rows x 11 columns]"
      ]
     },
     "execution_count": 26,
     "metadata": {},
     "output_type": "execute_result"
    }
   ],
   "source": [
    "index_100000 = df[df[\"Number of ratings\"] >= 100000].index\n",
    "lst = []\n",
    "for i in index_100000:\n",
    "    poss_lst = topic_results[i].round(2).tolist()\n",
    "    poss_lst.append(df.loc[i, 'App'])\n",
    "    lst.append(poss_lst)\n",
    "    \n",
    "\n",
    "df_topic = pd.DataFrame(lst, columns=['topic1', 'topic2', 'topic3', 'topic4', 'topic5', 'topic6', \n",
    "                                      'topic7', 'topic8', 'topic9', 'topic10', 'APP'])\n",
    "df_topic"
   ]
  },
  {
   "cell_type": "code",
   "execution_count": 27,
   "metadata": {},
   "outputs": [
    {
     "name": "stdout",
     "output_type": "stream",
     "text": [
      "topic1\n",
      "12      Dictionary.com\n",
      "85    Air Control Lite\n",
      "83          Paper Toss\n",
      "Name: APP, dtype: object\n",
      "\n",
      "\n",
      "topic2\n",
      "67            Tank Hero\n",
      "71    Robo Defense FREE\n",
      "61          Fruit Slice\n",
      "Name: APP, dtype: object\n",
      "\n",
      "\n",
      "topic3\n",
      "38    SpeechSynthesis Data Installer\n",
      "42                         Ringdroid\n",
      "44                    Google Sky Map\n",
      "Name: APP, dtype: object\n",
      "\n",
      "\n",
      "topic4\n",
      "25    Seesmic (Facebook, Twitter)\n",
      "79                    Zynga Poker\n",
      "46          Dolphin Browser??? HD\n",
      "Name: APP, dtype: object\n",
      "\n",
      "\n",
      "topic5\n",
      "81      Strip Poker\n",
      "48    Wallpapers HD\n",
      "9            Shazam\n",
      "Name: APP, dtype: object\n",
      "\n",
      "\n",
      "topic6\n",
      "58      Angry Birds Seasons\n",
      "65          Yoo Ninja! Free\n",
      "28    Adobe Flash Player 11\n",
      "Name: APP, dtype: object\n",
      "\n",
      "\n",
      "topic7\n",
      "30                  Netflix\n",
      "63    Ant Smasher Free Game\n",
      "73            Bunny Shooter\n",
      "Name: APP, dtype: object\n",
      "\n",
      "\n",
      "topic8\n",
      "66    Blast Monkeys\n",
      "62      Racing Moto\n",
      "68       My Country\n",
      "Name: APP, dtype: object\n",
      "\n",
      "\n",
      "topic9\n",
      "6           Tiny Flashlight + LED\n",
      "23                 Battery Widget\n",
      "70    Inotia3: Children of Carnia\n",
      "Name: APP, dtype: object\n",
      "\n",
      "\n",
      "topic10\n",
      "39    WhatsApp Messenger\n",
      "22              chompSMS\n",
      "26                 Gmail\n",
      "Name: APP, dtype: object\n",
      "\n",
      "\n"
     ]
    }
   ],
   "source": [
    "for name in df_topic.loc[:, df_topic.columns != 'APP'].columns:\n",
    "    print(name)\n",
    "    print(df_topic.nlargest(3, name)['APP'])\n",
    "    print(\"\\n\")"
   ]
  },
  {
   "cell_type": "markdown",
   "metadata": {},
   "source": [
    "### Part G: Visualize the document-topic proportion matrix in 2-D using t-SNE [15 points]\n",
    "\n",
    "Does our reduced dimensional space contain any structure? Visualize the documents (in the topic-space) using t-SNE.\n",
    "\n",
    "   * Use `TSNE` from `scikit-learn`.\n",
    "   * Set the angle to 0.99 and init to 'PCA'. Pick any learning rate that gives you a visually pleasing result.\n",
    "   * You may `fit` TSNE to a sample of the data (>1000 documents) instead of the full data.\n",
    "   * Remember to call `fit_transform` to obtain your 2-D data.\n",
    "   * Plot the t-SNE dimensions as a scatterplot.\n",
    "   * Color each point based on its most probable topic. Make sure you include a legend (10 colors).\n",
    "   \n",
    "Clusters in the t-SNE plot indicate groups of apps that have similar topics."
   ]
  },
  {
   "cell_type": "code",
   "execution_count": 35,
   "metadata": {},
   "outputs": [
    {
     "name": "stderr",
     "output_type": "stream",
     "text": [
      "/Users/nini/opt/anaconda3/lib/python3.9/site-packages/sklearn/manifold/_t_sne.py:982: FutureWarning: The PCA initialization in TSNE will change to have the standard deviation of PC1 equal to 1e-4 in 1.2. This will ensure better convergence.\n",
      "  warnings.warn(\n"
     ]
    },
    {
     "data": {
      "image/png": "[encoded data removed]",
      "text/plain": [
       "<Figure size 432x288 with 1 Axes>"
      ]
     },
     "metadata": {
      "needs_background": "light"
     },
     "output_type": "display_data"
    },
    {
     "name": "stdout",
     "output_type": "stream",
     "text": [
      "CPU times: user 13 s, sys: 3.07 s, total: 16.1 s\n",
      "Wall time: 3.35 s\n"
     ]
    }
   ],
   "source": [
    "%%time\n",
    "## Write your code here\n",
    "from sklearn.manifold import TSNE\n",
    "import matplotlib.pyplot as plt\n",
    "\n",
    "tsne = TSNE(n_components=2, angle=0.99, init='pca', perplexity=30, learning_rate=600, random_state=0)\n",
    "\n",
    "tsne_embedding = tsne.fit_transform(topic_results[:1200, :])  #fit 1200 documents\n",
    "\n",
    "most_probable_topic = np.argmax(topic_results, axis=1)[:1200]\n",
    "\n",
    "for topic in range(10):\n",
    "    plt.plot(tsne_embedding[most_probable_topic==topic,0], tsne_embedding[most_probable_topic==topic,1],\n",
    "             'o', label=\"Topic #\" + str(topic+1))\n",
    "\n",
    "plt.legend(loc='upper left')\n",
    "plt.show()"
   ]
  },
  {
   "cell_type": "code",
   "execution_count": null,
   "metadata": {},
   "outputs": [],
   "source": []
  }
 ],
 "metadata": {
  "kernelspec": {
   "display_name": "Python 3 (ipykernel)",
   "language": "python",
   "name": "python3"
  },
  "language_info": {
   "codemirror_mode": {
    "name": "ipython",
    "version": 3
   },
   "file_extension": ".py",
   "mimetype": "text/x-python",
   "name": "python",
   "nbconvert_exporter": "python",
   "pygments_lexer": "ipython3",
   "version": "3.9.12"
  }
 },
 "nbformat": 4,
 "nbformat_minor": 2
}
